{
 "cells": [
  {
   "cell_type": "code",
   "execution_count": 2,
   "id": "ae2ae0e7-d080-4711-9d84-2fec19281af1",
   "metadata": {},
   "outputs": [],
   "source": [
    "    import pandas as pd"
   ]
  },
  {
   "cell_type": "code",
   "execution_count": 5,
   "id": "b6be7988-5cd5-4a2b-90ac-f5f01d95855b",
   "metadata": {},
   "outputs": [],
   "source": [
    "df=pd.read_csv('data/placement.csv')"
   ]
  },
  {
   "cell_type": "code",
   "execution_count": null,
   "id": "b0f4e790-799a-4e2c-bbe6-1c0742dffda3",
   "metadata": {},
   "outputs": [],
   "source": [
    "import requests\n",
    "from io import StringIO\n",
    "\n",
    "url=\"\"\n",
    "headers="
   ]
  }
 ],
 "metadata": {
  "kernelspec": {
   "display_name": "Python 3 (ipykernel)",
   "language": "python",
   "name": "python3"
  },
  "language_info": {
   "codemirror_mode": {
    "name": "ipython",
    "version": 3
   },
   "file_extension": ".py",
   "mimetype": "text/x-python",
   "name": "python",
   "nbconvert_exporter": "python",
   "pygments_lexer": "ipython3",
   "version": "3.11.8"
  }
 },
 "nbformat": 4,
 "nbformat_minor": 5
}
